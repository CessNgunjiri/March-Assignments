{
 "cells": [
  {
   "cell_type": "markdown",
   "metadata": {},
   "source": [
    "*Question One:* _List Comprehension_"
   ]
  },
  {
   "cell_type": "code",
   "execution_count": 1,
   "metadata": {},
   "outputs": [],
   "source": [
    "# Write a python program that outputs the squares of odd numbers from range of 1 to 20\n",
    "start = int(input(\"Enter the start of range: \"))\n",
    "end = int(input(\"Enter the end of range: \"))\n",
    "  \n",
    "for num in range(start, end + 1):\n",
    "      \n",
    "\n",
    "    if num % 2 != 0:\n",
    "        print(num*num, end = \" \")\n"
   ]
  },
  {
   "cell_type": "markdown",
   "metadata": {},
   "source": [
    "*Question Two:* _Integers_"
   ]
  },
  {
   "cell_type": "code",
   "execution_count": 2,
   "metadata": {},
   "outputs": [],
   "source": [
    "# Write a program to check whether the given integer is a multiple of 5_\n",
    "\n",
    "number = int(input(\"Enter a positive integer: \"))\n",
    "if number % 5 ==0:\n",
    "    print(\"The number is a multiple of 5\".format(number))\n",
    "else:\n",
    "    print(\"The number is not a multiple of 5\".format(number))"
   ]
  },
  {
   "cell_type": "markdown",
   "metadata": {},
   "source": [
    "*Question Three*: _If Statement_"
   ]
  },
  {
   "cell_type": "code",
   "execution_count": 3,
   "metadata": {},
   "outputs": [],
   "source": [
    "# Write a program python program to check whether the given integer is a prime number or not\n",
    "num = int(input(\"Enter any number:\"))\n",
    "if num>1:\n",
    "    for x in range(2, num%2):\n",
    "        if(num%x)==0:\n",
    "            print(num,\"is not a prime number\")\n",
    "            break\n",
    "    else:\n",
    "                print(num,\"is a prime number\")\n",
    "\n"
   ]
  },
  {
   "cell_type": "markdown",
   "metadata": {},
   "source": [
    "*Question Four:* _User-defined Functions_"
   ]
  },
  {
   "cell_type": "code",
   "execution_count": 1,
   "metadata": {},
   "outputs": [],
   "source": [
    "# Write a program to implement a calculator to do basic operations (+,-,*,/)\n",
    "\n",
    "operation = input(\"Type the math operation you would like to complete: +, -, *, /\")\n",
    "num_1 = int(input(\"Enter the first number:\"))\n",
    "num_2 = int(input(\"Enter the second number:\"))\n",
    "print(num_1 + num_2)\n",
    "print(num_1 - num_2)\n",
    "print(num_1 * num_2)\n",
    "print(num_1 / num_2)\n"
   ]
  },
  {
   "cell_type": "markdown",
   "metadata": {},
   "source": [
    "*Question Five:* _Dictionaries & For Loop_"
   ]
  },
  {
   "cell_type": "code",
   "execution_count": 7,
   "metadata": {},
   "outputs": [],
   "source": [
    "# Create a simple dictionary and write a program to print all the items in your dictionary\n",
    "num=dict()\n",
    "for x in range(1,1000):\n",
    "    num[x]=x\n",
    "print(num) "
   ]
  },
  {
   "cell_type": "code",
   "execution_count": null,
   "metadata": {},
   "outputs": [],
   "source": []
  }
 ],
 "metadata": {
  "interpreter": {
   "hash": "1e4af7d8341c13d568efc1f8500c9e0239c4d10084c4659a417b8b188748b437"
  },
  "kernelspec": {
   "display_name": "Python 3 (ipykernel)",
   "language": "python",
   "name": "python3"
  },
  "language_info": {
   "codemirror_mode": {
    "name": "ipython",
    "version": 3
   },
   "file_extension": ".py",
   "mimetype": "text/x-python",
   "name": "python",
   "nbconvert_exporter": "python",
   "pygments_lexer": "ipython3",
   "version": "3.9.7"
  }
 },
 "nbformat": 4,
 "nbformat_minor": 2
}
